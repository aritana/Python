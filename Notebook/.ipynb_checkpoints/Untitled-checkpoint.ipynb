{
 "cells": [
  {
   "cell_type": "markdown",
   "metadata": {},
   "source": [
    "# Head First  Python Book"
   ]
  },
  {
   "cell_type": "code",
   "execution_count": null,
   "metadata": {},
   "outputs": [],
   "source": [
    "movies = [\"the holy grail4\", \"the life of brian\", \"the meaning of life\"]\n",
    "print (movies)"
   ]
  },
  {
   "cell_type": "code",
   "execution_count": 2,
   "metadata": {},
   "outputs": [
    {
     "name": "stdout",
     "output_type": "stream",
     "text": [
      "['the holy grail4', 'the life of brian', 'the meaning of life']\n",
      "['the holy grail4', 1775, 'the life of brian', 1889, 'the meaning of life', 1997]\n"
     ]
    }
   ],
   "source": [
    "movies = [\"the holy grail4\", \"the life of brian\", \"the meaning of life\"]\n",
    "movies2 = []\n",
    "x = len(movies)\n",
    "years = [1775,1889,1997]\n",
    "print(movies)   \n",
    "\n",
    "for i, movie in enumerate(movies):\n",
    "        movies2.append(movie)\n",
    "        movies2.append(years[i])\n",
    "print(movies2)\n"
   ]
  },
  {
   "cell_type": "code",
   "execution_count": 3,
   "metadata": {},
   "outputs": [
    {
     "name": "stdout",
     "output_type": "stream",
     "text": [
      "The holy grail4\n",
      "Aritana Noara\n",
      "Iara\n",
      "Jacira\n",
      "Glauco\n",
      "Marina\n"
     ]
    }
   ],
   "source": [
    "def imprimirLista(lista):\n",
    "    for sublist in lista:            \n",
    "        if isinstance(sublist, list):\n",
    "            imprimirLista(sublist)\n",
    "        else:\n",
    "            print(sublist)\n",
    "\n",
    "movieCast = [\"The holy grail4\", [\"Aritana Noara\",\"Iara\",\"Jacira\",\"Glauco\",[\"Marina\"]]]\n",
    "\n",
    "imprimirLista(movieCast)"
   ]
  },
  {
   "cell_type": "markdown",
   "metadata": {},
   "source": [
    "# Modules of Functions,\n",
    "page 76, \n",
    "Modules let you organize your code for optimal sharing\n",
    "The distribution utilities let you share your modules with the world.\n",
    "\n",
    "Turn your function into a module. \n",
    "A module is simple a text file that contains Python code. The main requirement is that the name of the file neeeds to end en .py.\n",
    "To turno you function into a module, save your code into a appropriately named file.\n"
   ]
  },
  {
   "cell_type": "markdown",
   "metadata": {},
   "source": [
    "The Python Package Index or PyPI for short provides a centralized repository for third-part Pyhtons modules on the Internet.\n",
    "\n"
   ]
  },
  {
   "cell_type": "markdown",
   "metadata": {},
   "source": [
    "# Prepare your distribution\n",
    "\n",
    "In order to share your newly created module, you need to prepare a distribution. This is the Python name given to the collection of files that together allow you to build, package, and distribute your module.\n",
    "\n",
    "Once a distribution exists, you can install you module into your local copy of python, as well as upload your module to PyPI to share with the world.\n",
    "Following along with the process described bellow:\n",
    "\n",
    "1) Create a folder (let's call the folder nester, to keep things simple), copy the nester.py into the folder.\n",
    "\n",
    "2) Create a file called \"setup.py\" in your folder, this file contains metadata about your distribution. Edit this file by adding the following code:\n",
    "    a) from distutils.core import setup\n",
    "       setup(\n",
    "           name =  'nester',\n",
    "           version = '1.0.0',\n",
    "           py_modules = ['nester']\n",
    "           author =  'hfpython',\n",
    "           author_email =  'tutoravacefet@gmail.com\",\n",
    "           description = 'A single printer of nested lists',\n",
    "           )\n",
    "\n"
   ]
  },
  {
   "cell_type": "markdown",
   "metadata": {},
   "source": [
    "# Build your distribution\n",
    "\n",
    "You now have a folder with two files in it: your module's code in nester.py and metadata about your module in setup.py. Now, it's time to build your distribution.\n",
    "Open a terminal widonw within your nester folder and type a singl command:\n",
    " python3 setup.py sdist.\n"
   ]
  },
  {
   "cell_type": "markdown",
   "metadata": {},
   "source": [
    "# Install your distribution into your local copy of Python. \n",
    "Staying in the terminal, type this command: sudo python3 setup.py install.\n",
    "Now your module is built, packaged as a distribution, and intalled, let's see what's involved in using it. \n",
    "import nester\n",
    "PAGE 81"
   ]
  }
 ],
 "metadata": {
  "kernelspec": {
   "display_name": "Python 3",
   "language": "python",
   "name": "python3"
  },
  "language_info": {
   "codemirror_mode": {
    "name": "ipython",
    "version": 3
   },
   "file_extension": ".py",
   "mimetype": "text/x-python",
   "name": "python",
   "nbconvert_exporter": "python",
   "pygments_lexer": "ipython3",
   "version": "3.7.6"
  }
 },
 "nbformat": 4,
 "nbformat_minor": 4
}
